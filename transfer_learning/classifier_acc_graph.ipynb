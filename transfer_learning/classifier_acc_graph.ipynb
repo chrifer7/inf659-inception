{
 "cells": [
  {
   "cell_type": "code",
   "execution_count": 23,
   "metadata": {},
   "outputs": [],
   "source": [
    "#!pip install tqdm\n",
    "#!pip install progress\n",
    "#!pip install sklearn"
   ]
  },
  {
   "cell_type": "code",
   "execution_count": 24,
   "metadata": {},
   "outputs": [],
   "source": [
    "import tensorflow as tf\n",
    "import sys\n",
    "import math\n",
    "import os\n",
    "import numpy as np\n",
    "\n",
    "from sklearn.model_selection import train_test_split\n",
    "from tqdm import tqdm\n",
    "from getvector import getvector\n",
    "from tensorflow.python.platform import gfile\n",
    "from progress.bar import Bar"
   ]
  },
  {
   "cell_type": "code",
   "execution_count": 25,
   "metadata": {
    "collapsed": true
   },
   "outputs": [],
   "source": [
    "data_inputs = []\n",
    "data_labels = []\n",
    "\n",
    "# Checking if the 2048-dimensional vector representations of the training images are already available\n",
    "if os.path.isfile('./data_inputs.txt') and os.path.isfile('./data_labels.txt'):\n",
    "\tdata_inputs = np.loadtxt('data_inputs.txt')\n",
    "\tdata_labels = np.loadtxt('data_labels.txt')\n",
    "\n",
    "else: \n",
    "\t# add in your images here if you want to train the model on your own images\n",
    "\timage_dir = './train'\n",
    "\tfile_list = []\n",
    "\tfile_glob = os.path.join(image_dir, '*.jpg');\n",
    "\tfile_list.extend(gfile.Glob(file_glob))\n",
    "\n",
    "\t# I only used 300 images from the cats and dogs dataset\n",
    "\tfile_list = file_list[0:300]\n",
    "\tbar = Bar('Inception-V3 is processing images:', max=300)\n",
    "\tfor file_name in file_list:\n",
    "\t\tdata_inputs.append(getvector(file_name))\n",
    "\t\tif 'cat' in file_name:\n",
    "\t\t\tdata_labels.append([1, 0])\n",
    "\t\telse:\n",
    "\t\t\tdata_labels.append([0, 1])\n",
    "\t\tbar.next()\n",
    "\tbar.finish()\n",
    "\n",
    "\tnp.savetxt('data_inputs.txt', data_inputs)\n",
    "\tnp.savetxt('data_labels.txt', data_labels)"
   ]
  },
  {
   "cell_type": "code",
   "execution_count": 26,
   "metadata": {
    "collapsed": true
   },
   "outputs": [],
   "source": [
    "# Splitting into train, val, and test\n",
    "train_inputs, valtest_inputs, train_labels, valtest_labels = train_test_split(data_inputs, data_labels, test_size=0.3, random_state=42)\n",
    "val_inputs, test_inputs, val_labels, test_labels = train_test_split(valtest_inputs, valtest_labels, test_size=0.4, random_state=43)"
   ]
  },
  {
   "cell_type": "code",
   "execution_count": 27,
   "metadata": {
    "collapsed": true
   },
   "outputs": [],
   "source": [
    "# Setting hyperparameters\n",
    "learning_rate = 0.01\n",
    "batch_size = 64\n",
    "epochs = 20\n",
    "log_batch_step = 50"
   ]
  },
  {
   "cell_type": "code",
   "execution_count": 28,
   "metadata": {
    "collapsed": true
   },
   "outputs": [],
   "source": [
    "# useful info\n",
    "n_features = np.size(train_inputs, 1)\n",
    "n_labels = np.size(train_labels, 1)"
   ]
  },
  {
   "cell_type": "code",
   "execution_count": 29,
   "metadata": {
    "collapsed": true
   },
   "outputs": [],
   "source": [
    "# Placeholders for input features and labels\n",
    "inputs = tf.placeholder(tf.float32, (None, n_features))\n",
    "labels = tf.placeholder(tf.float32, (None, n_labels))"
   ]
  },
  {
   "cell_type": "code",
   "execution_count": 30,
   "metadata": {
    "collapsed": true
   },
   "outputs": [],
   "source": [
    "# Setting up weights and bias\n",
    "weights = tf.Variable(tf.truncated_normal((n_features, n_labels), stddev=0.1), name='weights')\n",
    "bias = tf.Variable(tf.zeros(n_labels), name='bias')\n",
    "tf.add_to_collection('vars', weights)\n",
    "tf.add_to_collection('vars', bias)"
   ]
  },
  {
   "cell_type": "code",
   "execution_count": 31,
   "metadata": {
    "collapsed": true
   },
   "outputs": [],
   "source": [
    "# Setting up operation in fully connected layer\n",
    "logits = tf.add(tf.matmul(inputs, weights), bias)\n",
    "prediction = tf.nn.softmax(logits)\n",
    "tf.add_to_collection('pred', prediction)"
   ]
  },
  {
   "cell_type": "code",
   "execution_count": 32,
   "metadata": {
    "collapsed": true
   },
   "outputs": [],
   "source": [
    "# Defining loss of network\n",
    "difference = tf.nn.softmax_cross_entropy_with_logits(labels=labels, logits=logits)\n",
    "loss = tf.reduce_sum(difference)"
   ]
  },
  {
   "cell_type": "code",
   "execution_count": 33,
   "metadata": {
    "collapsed": true
   },
   "outputs": [],
   "source": [
    "# Setting optimiser\n",
    "optimizer = tf.train.AdamOptimizer(learning_rate).minimize(loss)"
   ]
  },
  {
   "cell_type": "code",
   "execution_count": 34,
   "metadata": {
    "collapsed": true
   },
   "outputs": [],
   "source": [
    "# Define accuracy\n",
    "is_correct_prediction = tf.equal(tf.argmax(prediction, 1), tf.argmax(labels, 1))\n",
    "accuracy = tf.reduce_mean(tf.cast(is_correct_prediction, tf.float32))\n",
    "\n",
    "saver = tf.train.Saver((weights, bias))"
   ]
  },
  {
   "cell_type": "code",
   "execution_count": 35,
   "metadata": {},
   "outputs": [
    {
     "name": "stderr",
     "output_type": "stream",
     "text": [
      "Epoch  1/20: 100%|██████████| 3/3 [00:00<00:00, 210.54batches/s]\n",
      "Epoch  2/20: 100%|██████████| 3/3 [00:00<00:00, 603.99batches/s]\n",
      "Epoch  3/20: 100%|██████████| 3/3 [00:00<00:00, 425.83batches/s]\n",
      "Epoch  4/20: 100%|██████████| 3/3 [00:00<00:00, 480.54batches/s]\n",
      "Epoch  5/20: 100%|██████████| 3/3 [00:00<00:00, 462.54batches/s]\n",
      "Epoch  6/20: 100%|██████████| 3/3 [00:00<00:00, 575.17batches/s]\n",
      "Epoch  7/20: 100%|██████████| 3/3 [00:00<00:00, 387.40batches/s]\n",
      "Epoch  8/20: 100%|██████████| 3/3 [00:00<00:00, 426.13batches/s]\n",
      "Epoch  9/20: 100%|██████████| 3/3 [00:00<00:00, 385.40batches/s]\n",
      "Epoch 10/20: 100%|██████████| 3/3 [00:00<00:00, 661.53batches/s]\n",
      "Epoch 11/20: 100%|██████████| 3/3 [00:00<00:00, 416.49batches/s]\n",
      "Epoch 12/20: 100%|██████████| 3/3 [00:00<00:00, 502.85batches/s]\n",
      "Epoch 13/20: 100%|██████████| 3/3 [00:00<00:00, 509.68batches/s]\n",
      "Epoch 14/20: 100%|██████████| 3/3 [00:00<00:00, 403.61batches/s]\n",
      "Epoch 15/20: 100%|██████████| 3/3 [00:00<00:00, 469.77batches/s]\n",
      "Epoch 16/20: 100%|██████████| 3/3 [00:00<00:00, 534.94batches/s]\n",
      "Epoch 17/20: 100%|██████████| 3/3 [00:00<00:00, 298.21batches/s]\n",
      "Epoch 18/20:   0%|          | 0/3 [00:00<?, ?batches/s]"
     ]
    },
    {
     "name": "stdout",
     "output_type": "stream",
     "text": [
      "After epoch 1, Loss: 39.3411903381, Accuracy: 0.64814811945\n",
      "After epoch 2, Loss: 33.1687850952, Accuracy: 0.796296298504\n",
      "After epoch 3, Loss: 12.3622550964, Accuracy: 0.907407402992\n",
      "After epoch 4, Loss: 26.1213684082, Accuracy: 0.85185188055\n",
      "After epoch 5, Loss: 4.88937139511, Accuracy: 0.981481492519\n",
      "After epoch 6, Loss: 2.48699045181, Accuracy: 0.981481492519\n",
      "After epoch 7, Loss: 3.39920639992, Accuracy: 0.981481492519\n",
      "After epoch 8, Loss: 2.92167901993, Accuracy: 0.981481492519\n",
      "After epoch 9, Loss: 1.51746988297, Accuracy: 0.981481492519\n",
      "After epoch 10, Loss: 1.19430291653, Accuracy: 1.0\n",
      "After epoch 11, Loss: 2.42347002029, Accuracy: 0.962962985039\n",
      "After epoch 12, Loss: 3.56312656403, Accuracy: 0.962962985039\n",
      "After epoch 13, Loss: 3.65154290199, Accuracy: 0.962962985039\n",
      "After epoch 14, Loss: 2.88372802734, Accuracy: 0.962962985039\n",
      "After epoch 15, Loss: 1.96118867397, Accuracy: 0.981481492519\n",
      "After epoch 16, Loss: 1.28179728985, Accuracy: 1.0\n",
      "After epoch 17, Loss: 0.880610466003, Accuracy: 1.0\n"
     ]
    },
    {
     "name": "stderr",
     "output_type": "stream",
     "text": [
      "Epoch 18/20: 100%|██████████| 3/3 [00:00<00:00, 352.16batches/s]\n",
      "Epoch 19/20: 100%|██████████| 3/3 [00:00<00:00, 449.04batches/s]\n",
      "Epoch 20/20: 100%|██████████| 3/3 [00:00<00:00, 401.88batches/s]\n"
     ]
    },
    {
     "name": "stdout",
     "output_type": "stream",
     "text": [
      "After epoch 18, Loss: 0.671622276306, Accuracy: 1.0\n",
      "After epoch 19, Loss: 0.574756503105, Accuracy: 1.0\n",
      "After epoch 20, Loss: 0.536991477013, Accuracy: 1.0\n"
     ]
    }
   ],
   "source": [
    "# Run tensorflow session\n",
    "history = {'val_acc':[], 'val_loss':[]}\n",
    "with tf.Session() as sess:\n",
    "    init = tf.global_variables_initializer()\n",
    "    sess.run(init)\n",
    "\n",
    "    # Running the training in batches \n",
    "    batch_count = int(math.ceil(len(train_inputs)/batch_size))\n",
    "\n",
    "    for epoch_i in range(epochs):\n",
    "        batches_pbar = tqdm(range(batch_count), desc='Epoch {:>2}/{}'.format(epoch_i+1, epochs), unit='batches')\n",
    "        # The training cycle\n",
    "        for batch_i in batches_pbar:\n",
    "            # Get a batch of training features and labels\n",
    "            batch_start = batch_i*batch_size\n",
    "            batch_inputs = train_inputs[batch_start:batch_start + batch_size]\n",
    "            batch_labels = train_labels[batch_start:batch_start + batch_size]\n",
    "            # Run optimizer\n",
    "            _ = sess.run(optimizer, feed_dict={inputs: batch_inputs, labels: batch_labels})\n",
    "\n",
    "        # Check accuracy against validation data\n",
    "        val_accuracy, val_loss = sess.run([accuracy, loss], feed_dict={inputs: val_inputs, labels: val_labels})\n",
    "        history['val_acc'].append(val_accuracy)\n",
    "        history['val_loss'].append(val_loss)\n",
    "        \n",
    "        print(\"After epoch {}, Loss: {}, Accuracy: {}\".format(epoch_i+1, val_loss, val_accuracy))\n",
    "\n",
    "    g = tf.get_default_graph()\n",
    "    saver.save(sess, './testsave')\n",
    "    "
   ]
  },
  {
   "cell_type": "code",
   "execution_count": 36,
   "metadata": {},
   "outputs": [
    {
     "name": "stdout",
     "output_type": "stream",
     "text": [
      "{'val_acc': [0.64814812, 0.7962963, 0.9074074, 0.85185188, 0.98148149, 0.98148149, 0.98148149, 0.98148149, 0.98148149, 1.0, 0.96296299, 0.96296299, 0.96296299, 0.96296299, 0.98148149, 1.0, 1.0, 1.0, 1.0, 1.0], 'val_loss': [39.34119, 33.168785, 12.362255, 26.121368, 4.8893714, 2.4869905, 3.3992064, 2.921679, 1.5174699, 1.1943029, 2.42347, 3.5631266, 3.6515429, 2.883728, 1.9611887, 1.2817973, 0.88061047, 0.67162228, 0.5747565, 0.53699148]}\n"
     ]
    },
    {
     "data": {
      "text/html": [
       "<div>\n",
       "<style>\n",
       "    .dataframe thead tr:only-child th {\n",
       "        text-align: right;\n",
       "    }\n",
       "\n",
       "    .dataframe thead th {\n",
       "        text-align: left;\n",
       "    }\n",
       "\n",
       "    .dataframe tbody tr th {\n",
       "        vertical-align: top;\n",
       "    }\n",
       "</style>\n",
       "<table border=\"1\" class=\"dataframe\">\n",
       "  <thead>\n",
       "    <tr style=\"text-align: right;\">\n",
       "      <th></th>\n",
       "      <th>val_acc</th>\n",
       "      <th>val_loss</th>\n",
       "    </tr>\n",
       "  </thead>\n",
       "  <tbody>\n",
       "    <tr>\n",
       "      <th>0</th>\n",
       "      <td>0.648148</td>\n",
       "      <td>39.341190</td>\n",
       "    </tr>\n",
       "    <tr>\n",
       "      <th>1</th>\n",
       "      <td>0.796296</td>\n",
       "      <td>33.168785</td>\n",
       "    </tr>\n",
       "    <tr>\n",
       "      <th>2</th>\n",
       "      <td>0.907407</td>\n",
       "      <td>12.362255</td>\n",
       "    </tr>\n",
       "    <tr>\n",
       "      <th>3</th>\n",
       "      <td>0.851852</td>\n",
       "      <td>26.121368</td>\n",
       "    </tr>\n",
       "    <tr>\n",
       "      <th>4</th>\n",
       "      <td>0.981481</td>\n",
       "      <td>4.889371</td>\n",
       "    </tr>\n",
       "    <tr>\n",
       "      <th>5</th>\n",
       "      <td>0.981481</td>\n",
       "      <td>2.486990</td>\n",
       "    </tr>\n",
       "    <tr>\n",
       "      <th>6</th>\n",
       "      <td>0.981481</td>\n",
       "      <td>3.399206</td>\n",
       "    </tr>\n",
       "    <tr>\n",
       "      <th>7</th>\n",
       "      <td>0.981481</td>\n",
       "      <td>2.921679</td>\n",
       "    </tr>\n",
       "    <tr>\n",
       "      <th>8</th>\n",
       "      <td>0.981481</td>\n",
       "      <td>1.517470</td>\n",
       "    </tr>\n",
       "    <tr>\n",
       "      <th>9</th>\n",
       "      <td>1.000000</td>\n",
       "      <td>1.194303</td>\n",
       "    </tr>\n",
       "    <tr>\n",
       "      <th>10</th>\n",
       "      <td>0.962963</td>\n",
       "      <td>2.423470</td>\n",
       "    </tr>\n",
       "    <tr>\n",
       "      <th>11</th>\n",
       "      <td>0.962963</td>\n",
       "      <td>3.563127</td>\n",
       "    </tr>\n",
       "    <tr>\n",
       "      <th>12</th>\n",
       "      <td>0.962963</td>\n",
       "      <td>3.651543</td>\n",
       "    </tr>\n",
       "    <tr>\n",
       "      <th>13</th>\n",
       "      <td>0.962963</td>\n",
       "      <td>2.883728</td>\n",
       "    </tr>\n",
       "    <tr>\n",
       "      <th>14</th>\n",
       "      <td>0.981481</td>\n",
       "      <td>1.961189</td>\n",
       "    </tr>\n",
       "    <tr>\n",
       "      <th>15</th>\n",
       "      <td>1.000000</td>\n",
       "      <td>1.281797</td>\n",
       "    </tr>\n",
       "    <tr>\n",
       "      <th>16</th>\n",
       "      <td>1.000000</td>\n",
       "      <td>0.880610</td>\n",
       "    </tr>\n",
       "    <tr>\n",
       "      <th>17</th>\n",
       "      <td>1.000000</td>\n",
       "      <td>0.671622</td>\n",
       "    </tr>\n",
       "    <tr>\n",
       "      <th>18</th>\n",
       "      <td>1.000000</td>\n",
       "      <td>0.574757</td>\n",
       "    </tr>\n",
       "    <tr>\n",
       "      <th>19</th>\n",
       "      <td>1.000000</td>\n",
       "      <td>0.536991</td>\n",
       "    </tr>\n",
       "  </tbody>\n",
       "</table>\n",
       "</div>"
      ],
      "text/plain": [
       "     val_acc   val_loss\n",
       "0   0.648148  39.341190\n",
       "1   0.796296  33.168785\n",
       "2   0.907407  12.362255\n",
       "3   0.851852  26.121368\n",
       "4   0.981481   4.889371\n",
       "5   0.981481   2.486990\n",
       "6   0.981481   3.399206\n",
       "7   0.981481   2.921679\n",
       "8   0.981481   1.517470\n",
       "9   1.000000   1.194303\n",
       "10  0.962963   2.423470\n",
       "11  0.962963   3.563127\n",
       "12  0.962963   3.651543\n",
       "13  0.962963   2.883728\n",
       "14  0.981481   1.961189\n",
       "15  1.000000   1.281797\n",
       "16  1.000000   0.880610\n",
       "17  1.000000   0.671622\n",
       "18  1.000000   0.574757\n",
       "19  1.000000   0.536991"
      ]
     },
     "metadata": {},
     "output_type": "display_data"
    },
    {
     "data": {
      "image/png": "[encoded data removed]",
      "text/plain": [
       "<matplotlib.figure.Figure at 0x7fb72df58490>"
      ]
     },
     "metadata": {},
     "output_type": "display_data"
    },
    {
     "data": {
      "image/png": "[encoded data removed]",
      "text/plain": [
       "<matplotlib.figure.Figure at 0x7fb72df586d0>"
      ]
     },
     "metadata": {},
     "output_type": "display_data"
    }
   ],
   "source": [
    "print(history)\n",
    "\n",
    "import pandas as pd\n",
    "import matplotlib.pyplot as plt\n",
    "%matplotlib inline\n",
    "\n",
    "df = pd.DataFrame(history)\n",
    "display(df)\n",
    "\n",
    "df.plot(y=['val_loss'], figsize=(16,4), title='Loss')\n",
    "df.plot(y=['val_acc'], figsize=(16,4), title='Accuracy');"
   ]
  },
  {
   "cell_type": "code",
   "execution_count": null,
   "metadata": {
    "collapsed": true
   },
   "outputs": [],
   "source": [
    "def predict(prediction, file_name = 'cat.jpg'):\n",
    "    #try: \n",
    "    #    file_name = 'cat.jpg'\n",
    "    #except IndexError:\n",
    "    #    print ('please enter image file path.........')\n",
    "    #    exit()\n",
    "    image_input = getvector(file_name).reshape((1,2048))\n",
    "    if 'cat' in file_name:\n",
    "        image_label = [[1, 0]]\n",
    "    else:\n",
    "        image_label = [[0, 1]]\n",
    "\n",
    "    with tf.Session() as sess:\n",
    "        new_saver = tf.train.import_meta_graph('testsave.meta')\n",
    "        new_saver.restore(sess, tf.train.latest_checkpoint('./'))\n",
    "\n",
    "        pred = sess.run(prediction, feed_dict={inputs: image_input})\n",
    "\n",
    "        return pred"
   ]
  },
  {
   "cell_type": "code",
   "execution_count": null,
   "metadata": {},
   "outputs": [
    {
     "name": "stdout",
     "output_type": "stream",
     "text": [
      ">> Downloading inception_v3_2016_08_28.tar.gz 46.9%"
     ]
    }
   ],
   "source": [
    "import matplotlib.pyplot as plt\n",
    "import matplotlib.image as mpimg\n",
    "\n",
    "pred = predict(prediction, 'cat.jpg')\n",
    "print('Predict: cat.jpg\\n', )\n",
    "img=mpimg.imread('cat.jpg')\n",
    "imgplot = plt.imshow(img)\n",
    "plt.show()\n",
    "print ('It\\'s a cat: {}, It\\'s a dog: {}'.format(pred[0][0], pred[0][1]))\n",
    "print('\\n\\n\\n')\n",
    "\n",
    "pred = predict(prediction, 'dog.jpg')\n",
    "print('Predict: dog.jpg\\n', )\n",
    "img=mpimg.imread('dog.jpg')\n",
    "imgplot = plt.imshow(img)\n",
    "plt.show()\n",
    "print ('It\\'s a cat: {}, It\\'s a dog: {}'.format(pred[0][0], pred[0][1]))"
   ]
  }
 ],
 "metadata": {
  "anaconda-cloud": {},
  "kernelspec": {
   "display_name": "Python 2",
   "language": "python",
   "name": "python2"
  }
 },
 "nbformat": 4,
 "nbformat_minor": 1
}
